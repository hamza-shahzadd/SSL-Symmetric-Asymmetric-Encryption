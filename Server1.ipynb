{
 "cells": [
  {
   "cell_type": "code",
   "execution_count": null,
   "id": "e9be6c47",
   "metadata": {
    "scrolled": false
   },
   "outputs": [
    {
     "name": "stdout",
     "output_type": "stream",
     "text": [
      "Server is listening...\n",
      "Connection established with ('127.0.0.1', 51638)\n",
      "Connection established with ('127.0.0.1', 51664)\n"
     ]
    }
   ],
   "source": [
    "import socket\n",
    "import ssl\n",
    "from cryptography.hazmat.primitives import serialization\n",
    "from cryptography.hazmat.primitives.asymmetric import rsa\n",
    "from cryptography.hazmat.primitives.asymmetric import padding\n",
    "from cryptography.hazmat.primitives.asymmetric import utils\n",
    "from cryptography.hazmat.primitives.asymmetric import rsa\n",
    "from cryptography.hazmat.primitives import hashes\n",
    "\n",
    "# Load the server private key from file\n",
    "with open('server-key.pem', 'rb') as key_file:\n",
    "    server_private_key = serialization.load_pem_private_key(key_file.read(), password=None)\n",
    "\n",
    "# Create an SSL context with the server's private key and certificate\n",
    "context = ssl.create_default_context(ssl.Purpose.CLIENT_AUTH)\n",
    "context.load_cert_chain(certfile='server-cert.pem', keyfile='server-key.pem')\n",
    "\n",
    "# Create a socket and bind it to a port\n",
    "server_socket = socket.socket(socket.AF_INET, socket.SOCK_STREAM)\n",
    "server_socket.bind(('127.0.0.1', 12369))\n",
    "server_socket.listen(1)\n",
    "\n",
    "print(\"Server is listening...\")\n",
    "\n",
    "while True:\n",
    "    client_socket, client_address = server_socket.accept()\n",
    "\n",
    "    # Wrap the client socket in an SSL context\n",
    "    secure_socket = context.wrap_socket(client_socket, server_side=True)\n",
    "\n",
    "    print(f\"Connection established with {client_address}\")\n",
    "\n",
    "    # Secure communication example\n",
    "    data = secure_socket.recv(1024)\n",
    "    if data:\n",
    "        print(\"SSL Certification Completed:\")\n",
    "        decrypted_data = server_private_key.decrypt(data, padding.OAEP(mgf=padding.MGF1(algorithm=hashes.SHA256()), algorithm=hashes.SHA256(), label=None))\n",
    "\n",
    "    secure_socket.close()"
   ]
  },
  {
   "cell_type": "code",
   "execution_count": null,
   "id": "6ea05299",
   "metadata": {},
   "outputs": [],
   "source": []
  },
  {
   "cell_type": "code",
   "execution_count": null,
   "id": "13f1e9ad",
   "metadata": {},
   "outputs": [],
   "source": []
  },
  {
   "cell_type": "code",
   "execution_count": null,
   "id": "d980e2a6",
   "metadata": {},
   "outputs": [],
   "source": []
  }
 ],
 "metadata": {
  "kernelspec": {
   "display_name": "Python 3 (ipykernel)",
   "language": "python",
   "name": "python3"
  },
  "language_info": {
   "codemirror_mode": {
    "name": "ipython",
    "version": 3
   },
   "file_extension": ".py",
   "mimetype": "text/x-python",
   "name": "python",
   "nbconvert_exporter": "python",
   "pygments_lexer": "ipython3",
   "version": "3.11.4"
  }
 },
 "nbformat": 4,
 "nbformat_minor": 5
}
