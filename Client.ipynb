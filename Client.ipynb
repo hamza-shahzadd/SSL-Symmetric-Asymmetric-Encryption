{
 "cells": [
  {
   "cell_type": "code",
   "execution_count": 1,
   "id": "7c765a98",
   "metadata": {
    "scrolled": false
   },
   "outputs": [
    {
     "name": "stdout",
     "output_type": "stream",
     "text": [
      "Waiting for the server to send the secret...\n",
      "Shared Secret: 12\n",
      "Key exchange successful. Secrets match.\n",
      "Sending an encrypted message to the server...\n",
      "Message Hash:  b\"\\xf4s\\xae\\x95!%\\x1b\\xdd\\xcb\\x96\\x10p\\x99\\x93dtC\\x04\\x9c\\xf6'\\r1\\xbdT8\\xdco\\r\\x10\\x07\\xea\"\n",
      "Encrypted Message:  b'gAAAAABlVdECrrSzJN5_3QdGxAinbcoyR3OvcSW8hvnl4K1vUU8t93o_Q-nZl4FGTIe0zFWhteUnRspccaANYMHMtFnOiuA8r_5UGGP-G8fCGA8YYDsgtMc_NNlQuMGwukbRASNbtNhBFYNOqwpk1-3-jQxu_XTbLw=='\n"
     ]
    }
   ],
   "source": [
    "# Client\n",
    "\n",
    "import socket\n",
    "import base64\n",
    "import hashlib\n",
    "from cryptography.hazmat.primitives.kdf.pbkdf2 import PBKDF2HMAC\n",
    "from cryptography.hazmat.primitives import hashes\n",
    "from cryptography.hazmat.primitives.kdf.pbkdf2 import PBKDF2HMAC\n",
    "from cryptography.hazmat.primitives import serialization\n",
    "from cryptography.hazmat.primitives.asymmetric import padding\n",
    "from cryptography.hazmat.primitives.asymmetric import rsa\n",
    "from cryptography.hazmat.primitives import hashes\n",
    "from cryptography.hazmat.primitives.serialization import Encoding, PrivateFormat, NoEncryption\n",
    "from cryptography.hazmat.primitives.serialization import Encoding, PublicFormat\n",
    "from cryptography.hazmat.primitives import serialization\n",
    "from cryptography.hazmat.primitives.asymmetric import dh\n",
    "from cryptography.fernet import Fernet\n",
    "\n",
    "# Create a socket\n",
    "client_socket = socket.socket(socket.AF_INET, socket.SOCK_STREAM)\n",
    "\n",
    "# Connect to the server\n",
    "server_address = ('localhost', 12341)\n",
    "client_socket.connect(server_address)\n",
    "\n",
    "# Define hardcoded public keys for the client and server\n",
    "client_public_key = 7  # Replace with a real public key\n",
    "server_public_key = 5  # Replace with a real public key\n",
    "\n",
    "# Send the client's public key to the server\n",
    "client_socket.send(str(client_public_key).encode())\n",
    "\n",
    "print(\"Waiting for the server to send the secret...\")\n",
    "\n",
    "# Receive the server's public key\n",
    "server_public_key_received = int(client_socket.recv(1024).decode())\n",
    "\n",
    "# Calculate the shared secret\n",
    "shared_secret = (server_public_key_received * client_public_key) % 23  # Replace 23 with your prime number\n",
    "\n",
    "if shared_secret == 12:  # Replace 12 with the expected shared secret\n",
    "    print(\"Key exchange successful. Secrets match.\")\n",
    "    print(\"Sending an encrypted message to the server...\")\n",
    "\n",
    "    # Derive an encryption key from the shared secret using PBKDF2\n",
    "    kdf = PBKDF2HMAC(\n",
    "        algorithm=hashes.SHA256(),\n",
    "        iterations=100000,\n",
    "        salt=b'',\n",
    "        length=32,\n",
    "    )\n",
    "    encryption_key = base64.urlsafe_b64encode(kdf.derive(shared_secret.to_bytes(32, byteorder='big')))\n",
    "\n",
    "    # Create the message\n",
    "    message = \"Hello hamza. thanks\"\n",
    "    \n",
    "    # Calculate the SHA-256 hash of the message\n",
    "    message_hash = hashlib.sha256(message.encode()).digest()\n",
    "    print(\"Message Hash: \", message_hash)\n",
    "    \n",
    "    # Append the hash to the message\n",
    "    message_with_hash = message.encode() + message_hash\n",
    "    \n",
    "    # Encrypt the message with the hash\n",
    "    cipher = Fernet(encryption_key)\n",
    "    encrypted_message = cipher.encrypt(message_with_hash)\n",
    "    print(\"Encrypted Message: \", encrypted_message)\n",
    "    client_socket.send(encrypted_message)\n",
    "\n",
    "else:\n",
    "    print(\"Key exchange failed. Secrets do not match.\")\n",
    "\n",
    "# Close the client socket\n",
    "client_socket.close()"
   ]
  },
  {
   "cell_type": "code",
   "execution_count": null,
   "id": "58d27aed",
   "metadata": {},
   "outputs": [],
   "source": []
  },
  {
   "cell_type": "code",
   "execution_count": null,
   "id": "607d323a",
   "metadata": {},
   "outputs": [],
   "source": []
  },
  {
   "cell_type": "code",
   "execution_count": null,
   "id": "837971c2",
   "metadata": {},
   "outputs": [],
   "source": []
  }
 ],
 "metadata": {
  "kernelspec": {
   "display_name": "Python 3 (ipykernel)",
   "language": "python",
   "name": "python3"
  },
  "language_info": {
   "codemirror_mode": {
    "name": "ipython",
    "version": 3
   },
   "file_extension": ".py",
   "mimetype": "text/x-python",
   "name": "python",
   "nbconvert_exporter": "python",
   "pygments_lexer": "ipython3",
   "version": "3.11.4"
  }
 },
 "nbformat": 4,
 "nbformat_minor": 5
}
