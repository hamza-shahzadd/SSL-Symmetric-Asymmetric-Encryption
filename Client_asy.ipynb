{
 "cells": [
  {
   "cell_type": "code",
   "execution_count": 1,
   "id": "94110ea0",
   "metadata": {},
   "outputs": [
    {
     "name": "stdout",
     "output_type": "stream",
     "text": [
      "Key exchange completed. Sending encrypted and hashed message...\n",
      "b'\\r\\xb5\\xd5\\x9e7\\xa2\\xde\\x84\\xa7riB\\xb7)\\xe8|\\x04)\\xad_\\xaaYf-.\\nZ\\xad\\x04U?\\xe8lD\\xf1\\xee\\xc2b\\xa0\\xc0\\x18\\x18\\x03\\xb9S\\xce\\xee\\xfd\\x16v\\xc549\\xd20:\\x8d\\xaf\\xfb\\x19\\xb3b\\xb7d\\xd7+t\\x85w\\x8d_\\x1c\\x8d\\x80\\x8e\\x0fSP\\xdb\\xdc7OS:\\xfb\\xa9\\x01\\x05g\\x96\\x9f\\xad\\xf3K\\xf8_\\xffP\\xf4\\x034;1\\xee\\xbd\\xc0\\xe0\\xe0\\xb7U\\x12\\xd4\\xe9h\\xa0\\x1b6>\\x95,\\xd5I\\xa0\\xf4\\xb7\\xd0\\xec\\x8e\\xa5\\x00\\xeb\\xda\\x86P\\xc5\\xd9\\xa5`\\xbd\\xe0\\xa0t\\xeb\\xc5\\xfe:l\\xe92\\x9313\\xa3o\\x97\\x81\\xf4/v\\xe7\\x12O\\x0c\\x98\\xf2J.\\x88\\xdd\\xa6:\\xd4\\x0b\\xb3.\\xcb\\x82\\xd1X\\xfc;Q\\x8e\\xed.\\xaf\\xa5\\xce#\\xad4l`s\\x0c\\xb3?\\xa8\\x01\\x15\\xa5\\xcf\\x13\\x7f{\\x95\\xd3\\xf8\\xab\\x8b.fV\\xf9Lviu\\x8b\\xa4E\\x0f\\xab\\xe2mP\\xda\\x91\\x88gR\\x98Y.\\xc0\\x7fi\\xf6\\xe5\\xbb\\xd63\\xb65\\xfb\\x91\\x1c@\\x83\\xd01G\\xe6\\xa8\\x91\\xae'\n"
     ]
    }
   ],
   "source": [
    "import socket\n",
    "from cryptography.hazmat.primitives import hashes\n",
    "from cryptography.hazmat.primitives.asymmetric import rsa\n",
    "from cryptography.hazmat.primitives import serialization\n",
    "from cryptography.hazmat.primitives.asymmetric import padding\n",
    "from cryptography.hazmat.primitives.hashes import SHA256\n",
    "\n",
    "# Function to encrypt data using the RSA public key\n",
    "def encrypt_data(data, public_key):\n",
    "    encrypted_data = public_key.encrypt(\n",
    "        data,\n",
    "        padding.OAEP(\n",
    "            mgf=padding.MGF1(algorithm=hashes.SHA256()),\n",
    "            algorithm=hashes.SHA256(),\n",
    "            label=None\n",
    "        )\n",
    "    )\n",
    "    return encrypted_data\n",
    "\n",
    "# Function to hash data using SHA-256\n",
    "def hash_data(data):\n",
    "    digest = hashes.Hash(SHA256())\n",
    "    digest.update(data)\n",
    "    return digest.finalize()\n",
    "\n",
    "# Create an RSA key pair for the client\n",
    "private_key = rsa.generate_private_key(\n",
    "    public_exponent=65537,\n",
    "    key_size=2048,\n",
    ")\n",
    "\n",
    "# Serialize the public key\n",
    "public_key_pem = private_key.public_key().public_bytes(\n",
    "    encoding=serialization.Encoding.PEM,\n",
    "    format=serialization.PublicFormat.SubjectPublicKeyInfo,\n",
    ")\n",
    "\n",
    "# Create a socket and connect to the server\n",
    "host = 'localhost'\n",
    "port = 12339\n",
    "client_socket = socket.socket(socket.AF_INET, socket.SOCK_STREAM)\n",
    "client_socket.connect((host, port))\n",
    "\n",
    "# Send the client's public key to the server\n",
    "client_socket.send(public_key_pem)\n",
    "\n",
    "# Receive the server's public key\n",
    "server_public_key_pem = client_socket.recv(2048)\n",
    "\n",
    "# Load the server's public key\n",
    "server_public_key = serialization.load_pem_public_key(server_public_key_pem)\n",
    "\n",
    "# Wait for the key exchange to complete\n",
    "print(\"Key exchange completed. Sending encrypted and hashed message...\")\n",
    "\n",
    "# Message to be hashed, concatenated, and encrypted\n",
    "message = b'This is a secret message to be encrypted.'\n",
    "hash_value = hash_data(message)\n",
    "\n",
    "# Concatenate the message and the hash\n",
    "message_to_send = message + b'\\n' + hash_value\n",
    "\n",
    "# Encrypt the message using the server's public key\n",
    "encrypted_message = encrypt_data(message_to_send, server_public_key)\n",
    "print(encrypted_message)\n",
    "# Send the encrypted message to the server\n",
    "client_socket.send(encrypted_message)\n",
    "\n",
    "# Close the socket\n",
    "client_socket.close()\n"
   ]
  },
  {
   "cell_type": "code",
   "execution_count": null,
   "id": "f994bf48",
   "metadata": {},
   "outputs": [],
   "source": []
  },
  {
   "cell_type": "code",
   "execution_count": null,
   "id": "582a4daa",
   "metadata": {},
   "outputs": [],
   "source": []
  }
 ],
 "metadata": {
  "kernelspec": {
   "display_name": "Python 3 (ipykernel)",
   "language": "python",
   "name": "python3"
  },
  "language_info": {
   "codemirror_mode": {
    "name": "ipython",
    "version": 3
   },
   "file_extension": ".py",
   "mimetype": "text/x-python",
   "name": "python",
   "nbconvert_exporter": "python",
   "pygments_lexer": "ipython3",
   "version": "3.11.4"
  }
 },
 "nbformat": 4,
 "nbformat_minor": 5
}
