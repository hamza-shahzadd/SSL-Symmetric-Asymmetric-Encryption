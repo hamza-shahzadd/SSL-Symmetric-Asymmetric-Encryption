{
 "cells": [
  {
   "cell_type": "code",
   "execution_count": 3,
   "id": "783dd9e6",
   "metadata": {
    "scrolled": true
   },
   "outputs": [],
   "source": [
    "import socket\n",
    "import ssl\n",
    "from cryptography.hazmat.primitives import serialization\n",
    "from cryptography.hazmat.primitives.asymmetric import padding\n",
    "from cryptography import x509\n",
    "from cryptography.hazmat.primitives import hashes\n",
    "\n",
    "\n",
    "\n",
    "# Create a socket\n",
    "client_socket = socket.socket(socket.AF_INET, socket.SOCK_STREAM)\n",
    "\n",
    "# Connect to the server (replace 'localhost' and 12345 with your server's hostname and port)\n",
    "server_hostname = 'localhost'\n",
    "server_port = 12370\n",
    "client_socket.connect((server_hostname, server_port))\n",
    "\n",
    "# Load the client private key from file\n",
    "with open('client-key.pem', 'rb') as key_file:\n",
    "    client_private_key = serialization.load_pem_private_key(key_file.read(), password=None)\n",
    "\n",
    "with open('server-cert.pem', 'rb') as cert_file:\n",
    "    server_cert = x509.load_pem_x509_certificate(cert_file.read())\n",
    "    server_public_key = server_cert.public_key()\n",
    "\n",
    "\n",
    "\n",
    "\n",
    "# Wrap the client socket in an SSL context with certificate verification disabled\n",
    "context = ssl.create_default_context(ssl.Purpose.SERVER_AUTH)\n",
    "\n",
    "# Disable certificate verification (not recommended for production)\n",
    "context.check_hostname = False\n",
    "context.verify_mode = ssl.CERT_NONE\n",
    "\n",
    "secure_socket = context.wrap_socket(client_socket, server_hostname=server_hostname)\n",
    "\n",
    "# Secure communication example\n",
    "data = b'SSL Certification Completed'\n",
    "encrypted_data = server_public_key.encrypt(data, padding.OAEP(mgf=padding.MGF1(algorithm=hashes.SHA256()), algorithm=hashes.SHA256(), label=None))\n",
    "secure_socket.send(encrypted_data)\n",
    "\n",
    "\n",
    "secure_socket.close()\n",
    "client_socket.close()"
   ]
  },
  {
   "cell_type": "code",
   "execution_count": null,
   "id": "c99cb916",
   "metadata": {},
   "outputs": [],
   "source": []
  },
  {
   "cell_type": "code",
   "execution_count": null,
   "id": "21e174af",
   "metadata": {},
   "outputs": [],
   "source": []
  },
  {
   "cell_type": "code",
   "execution_count": null,
   "id": "abed9573",
   "metadata": {},
   "outputs": [],
   "source": []
  }
 ],
 "metadata": {
  "kernelspec": {
   "display_name": "Python 3 (ipykernel)",
   "language": "python",
   "name": "python3"
  },
  "language_info": {
   "codemirror_mode": {
    "name": "ipython",
    "version": 3
   },
   "file_extension": ".py",
   "mimetype": "text/x-python",
   "name": "python",
   "nbconvert_exporter": "python",
   "pygments_lexer": "ipython3",
   "version": "3.11.4"
  }
 },
 "nbformat": 4,
 "nbformat_minor": 5
}
