{
 "cells": [
  {
   "cell_type": "code",
   "execution_count": null,
   "id": "d94fcd5a",
   "metadata": {
    "scrolled": true
   },
   "outputs": [
    {
     "name": "stdout",
     "output_type": "stream",
     "text": [
      "Server is listening on localhost:12341\n",
      "Waiting for a connection...\n"
     ]
    }
   ],
   "source": [
    "import socket\n",
    "import base64\n",
    "import hashlib\n",
    "from cryptography.hazmat.primitives.kdf.pbkdf2 import PBKDF2HMAC\n",
    "from cryptography.hazmat.primitives import hashes\n",
    "from cryptography.fernet import Fernet\n",
    "\n",
    "# Create a socket\n",
    "server_socket = socket.socket(socket.AF_INET, socket.SOCK_STREAM)\n",
    "\n",
    "# Bind the socket to a specific address and port\n",
    "server_address = ('localhost', 12341)\n",
    "server_socket.bind(server_address)\n",
    "\n",
    "# Listen for incoming connections\n",
    "server_socket.listen(1)\n",
    "print(\"Server is listening on {}:{}\".format(*server_address))\n",
    "\n",
    "# Define hardcoded public keys for the server and client\n",
    "server_public_key = 5  # Replace with a real public key\n",
    "client_public_key = 7  # Replace with a real public key\n",
    "\n",
    "while True:\n",
    "    print(\"Waiting for a connection...\")\n",
    "\n",
    "    # Accept a connection\n",
    "    client_socket, client_address = server_socket.accept()\n",
    "    print(\"Accepted connection from {}:{}\".format(*client_address))\n",
    "    \n",
    "    # Receive the client's public key\n",
    "    client_public_key_received = int(client_socket.recv(1024).decode())\n",
    "    \n",
    "    # Send the server's public key to the client\n",
    "    client_socket.send(str(server_public_key).encode())\n",
    "\n",
    "    # Calculate the shared secret\n",
    "    shared_secret = (client_public_key_received * server_public_key) % 23  # Replace 23 with your prime number\n",
    "\n",
    "    if shared_secret == 12:  # Replace 12 with the expected shared secret\n",
    "        print(\"Key exchange successful. Secrets match.\")\n",
    "        print(\"Receiving and decrypting the message...\")\n",
    "\n",
    "        # Derive an encryption key from the shared secret using PBKDF2\n",
    "        kdf = PBKDF2HMAC(\n",
    "            algorithm=hashes.SHA256(),\n",
    "            iterations=100000,\n",
    "            salt=b'',\n",
    "            length=32,\n",
    "        )\n",
    "        encryption_key = base64.urlsafe_b64encode(kdf.derive(shared_secret.to_bytes(32, byteorder='big')))\n",
    "        \n",
    "        # Receive and decrypt the message\n",
    "        encrypted_message = client_socket.recv(1024)\n",
    "        print(\"Received Encrypted Message:\", encrypted_message)\n",
    "        cipher = Fernet(encryption_key)\n",
    "        message_with_hash = cipher.decrypt(encrypted_message)\n",
    "        \n",
    "        # Separate the message and hash\n",
    "        message = message_with_hash[:-32]  # Assuming SHA-256 hash size is 32 bytes\n",
    "        received_hash = message_with_hash[-32:]\n",
    "        print(\"Received Hash:\", received_hash)\n",
    "        # Calculate the SHA-256 hash of the received message\n",
    "        calculated_hash = hashlib.sha256(message).digest()\n",
    "        print(\"Calculated Hash:\", calculated_hash)\n",
    "        \n",
    "        # Compare the received hash with the calculated hash for integrity verification\n",
    "        if received_hash == calculated_hash:\n",
    "            print(\"Message integrity verified. Received Message:\", message.decode())\n",
    "        else:\n",
    "            print(\"Message integrity check failed.\")\n",
    "    else:\n",
    "        print(\"Key exchange failed. Secrets do not match.\")\n",
    "\n",
    "    # Close the client socket\n",
    "    client_socket.close()\n"
   ]
  },
  {
   "cell_type": "code",
   "execution_count": null,
   "id": "cac1a0ee",
   "metadata": {},
   "outputs": [],
   "source": []
  }
 ],
 "metadata": {
  "kernelspec": {
   "display_name": "Python 3 (ipykernel)",
   "language": "python",
   "name": "python3"
  },
  "language_info": {
   "codemirror_mode": {
    "name": "ipython",
    "version": 3
   },
   "file_extension": ".py",
   "mimetype": "text/x-python",
   "name": "python",
   "nbconvert_exporter": "python",
   "pygments_lexer": "ipython3",
   "version": "3.11.4"
  }
 },
 "nbformat": 4,
 "nbformat_minor": 5
}
